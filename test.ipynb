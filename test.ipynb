{
 "cells": [
  {
   "cell_type": "code",
   "execution_count": 2,
   "id": "b55aee8d-d19d-4369-9f1d-e3b197743b5b",
   "metadata": {},
   "outputs": [],
   "source": [
    "import pandas as pd"
   ]
  },
  {
   "cell_type": "code",
   "execution_count": 3,
   "id": "8160ae6a-8c28-478e-ad95-2addfc087de6",
   "metadata": {},
   "outputs": [
    {
     "name": "stdout",
     "output_type": "stream",
     "text": [
      "A\n"
     ]
    }
   ],
   "source": [
    "# Assume you have a DataFrame called 'data'\n",
    "data = pd.DataFrame({'A': [1, 2, 3], 'B': ['a', 'b', 'c']})\n",
    "\n",
    "# Get the data types of each column\n",
    "column_types = data.dtypes\n",
    "\n",
    "# Retrieve the name of a column\n",
    "column_name = column_types.index[0]\n",
    "print(column_name)"
   ]
  },
  {
   "cell_type": "code",
   "execution_count": 4,
   "id": "e876761b-17b4-4138-a2d0-681484a4ccca",
   "metadata": {},
   "outputs": [
    {
     "data": {
      "text/plain": [
       "0    1\n",
       "1    2\n",
       "2    3\n",
       "Name: A, dtype: int64"
      ]
     },
     "execution_count": 4,
     "metadata": {},
     "output_type": "execute_result"
    }
   ],
   "source": [
    "data[column_name]"
   ]
  },
  {
   "cell_type": "code",
   "execution_count": 5,
   "id": "d901b522-dc4e-4698-98ca-9b4005de0d95",
   "metadata": {},
   "outputs": [],
   "source": [
    "A_column = data[column_name]"
   ]
  },
  {
   "cell_type": "code",
   "execution_count": 6,
   "id": "6db80d4e-bfcd-47b6-82fb-5c0f06d21828",
   "metadata": {},
   "outputs": [
    {
     "data": {
      "text/plain": [
       "1"
      ]
     },
     "execution_count": 6,
     "metadata": {},
     "output_type": "execute_result"
    }
   ],
   "source": [
    "A_column[0]"
   ]
  },
  {
   "cell_type": "code",
   "execution_count": 7,
   "id": "b5c97b4b-f2a8-4bc0-ad11-d6b9eca70d77",
   "metadata": {},
   "outputs": [
    {
     "name": "stderr",
     "output_type": "stream",
     "text": [
      "/var/folders/1d/yjqh7h5j7cv145cc0kvjhcy40000gn/T/ipykernel_19765/124528211.py:1: FutureWarning: Series.__getitem__ treating keys as positions is deprecated. In a future version, integer keys will always be treated as labels (consistent with DataFrame behavior). To access a value by position, use `ser.iloc[pos]`\n",
      "  column_types[0]\n"
     ]
    },
    {
     "data": {
      "text/plain": [
       "dtype('int64')"
      ]
     },
     "execution_count": 7,
     "metadata": {},
     "output_type": "execute_result"
    }
   ],
   "source": [
    "column_types[0]"
   ]
  },
  {
   "cell_type": "code",
   "execution_count": 9,
   "id": "0f188dc4-389f-4119-b09f-fbdd5b6f5c15",
   "metadata": {},
   "outputs": [
    {
     "name": "stdout",
     "output_type": "stream",
     "text": [
      "int64\n",
      "object\n"
     ]
    }
   ],
   "source": [
    "for column in column_types:\n",
    "    print(column)"
   ]
  },
  {
   "cell_type": "code",
   "execution_count": null,
   "id": "77a3b547-348f-4c6f-ac12-623fe9334247",
   "metadata": {},
   "outputs": [],
   "source": []
  }
 ],
 "metadata": {
  "kernelspec": {
   "display_name": "Python 3 (ipykernel)",
   "language": "python",
   "name": "python3"
  },
  "language_info": {
   "codemirror_mode": {
    "name": "ipython",
    "version": 3
   },
   "file_extension": ".py",
   "mimetype": "text/x-python",
   "name": "python",
   "nbconvert_exporter": "python",
   "pygments_lexer": "ipython3",
   "version": "3.11.5"
  }
 },
 "nbformat": 4,
 "nbformat_minor": 5
}
